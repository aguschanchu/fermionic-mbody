{
 "cells": [
  {
   "cell_type": "code",
   "execution_count": 22,
   "id": "315fefd7",
   "metadata": {},
   "outputs": [
    {
     "name": "stderr",
     "output_type": "stream",
     "text": [
      "ρ_1: 100%|██████████| 8/8 [00:00<00:00, 1187.35it/s]\n",
      "ρ_2: 100%|██████████| 8/8 [00:00<00:00, 5019.36it/s]\n",
      "ρ₂-k k̄: 100%|██████████| 8/8 [00:00<00:00, 6072.10it/s]\n",
      "ρ₂-block: 100%|██████████| 8/8 [00:00<00:00, 1355.30it/s]\n"
     ]
    },
    {
     "data": {
      "text/plain": [
       "(4, 4, 6, 6)"
      ]
     },
     "execution_count": 22,
     "metadata": {},
     "output_type": "execute_result"
    }
   ],
   "source": [
    "import fermionic_mbody as fmb\n",
    "import numpy as np\n",
    "import openfermion as of\n",
    "\n",
    "n, m = 2, 1\n",
    "d, num, pairs = 2*n, 2*m, False\n",
    "basis = fmb.FixedBasis(d=d, num=num, pairs=pairs)\n",
    "rho_1_arrays = fmb.rho_m_gen(basis, 1)\n",
    "rho_2_arrays = fmb.rho_m_gen(basis, 2)\n",
    "rho_2_kkbar_arrays = fmb.rho_2_kkbar_gen(basis)\n",
    "rho_2_block_arrays = fmb.rho_2_block_gen(basis)\n",
    "rho_2_block_arrays.shape"
   ]
  },
  {
   "cell_type": "code",
   "execution_count": 23,
   "id": "155d555d",
   "metadata": {},
   "outputs": [],
   "source": [
    "def pair_condensate_state(basis: fmb.FixedBasis, m_pairs: int) -> np.ndarray:\n",
    "    d = basis.d\n",
    "    assert d % 2 == 0\n",
    "    n_pairs = d // 2\n",
    "    assert 0 < m_pairs <= n_pairs\n",
    "\n",
    "    vec = np.zeros(basis.size, complex)\n",
    "\n",
    "    # iterate over every subset of m time-reversed pairs\n",
    "    from itertools import combinations\n",
    "\n",
    "    for combo in combinations(range(n_pairs), m_pairs):\n",
    "        bitmask = 0\n",
    "        for k in combo:\n",
    "            bitmask |= 1 << (2 * k)      # c†_k\n",
    "            bitmask |= 1 << (2 * k + 1)  # c†_{k̄}\n",
    "        idx = int(np.where(basis.num_ele == bitmask)[0])\n",
    "        vec[idx] = 1.0\n",
    "\n",
    "    vec /= np.linalg.norm(vec)\n",
    "    return vec.real\n",
    "\n",
    "def a_dag_state(basis: fmb.FixedBasis, sk_arr: np.ndarray):\n",
    "    # Generamos los operadores A^\\dag\n",
    "    op = of.FermionOperator.zero()\n",
    "    for k in range(0, basis.d//2):\n",
    "        op += sk_arr[k] * of.FermionOperator((2*k, 1)) * of.FermionOperator((2*k+1, 1))\n",
    "    op = np.prod([op for _ in range(basis.m//2)])\n",
    "    vect = basis.opr_to_vect(op).real\n",
    "    print(op)\n",
    "    return vect * 1/np.linalg.norm(vect)\n",
    "\n",
    "def partial_traspose(rho, perm):\n",
    "    d = basis.d//2\n",
    "    rho_p = np.zeros((d**2, d**2))\n",
    "    for m in range(d**2):\n",
    "        for n in range(d**2):\n",
    "            # Escrimos los índices i j k l en términos de m n\n",
    "            i, j = m//d, m % d\n",
    "            k, l = n//d, n % d\n",
    "            indices = (i, j, k, l)\n",
    "            ip, jp, kp, lp = tuple(indices[p] for p in perm)\n",
    "            rho_p[m,n] = rho[ip*d + jp, kp*d + lp]\n",
    "    return rho_p\n",
    "\n",
    "def slater_state(basis: fmb.FixedBasis, occupied) -> np.ndarray:\n",
    "    bitmask = sum(1 << i for i in occupied)\n",
    "    idx = int(np.where(basis.num_ele == bitmask)[0])\n",
    "    vec = np.zeros(basis.size, complex)\n",
    "    vec[idx] = 1.0\n",
    "    return vec"
   ]
  },
  {
   "cell_type": "code",
   "execution_count": 24,
   "id": "19cf6f5f",
   "metadata": {},
   "outputs": [
    {
     "name": "stdout",
     "output_type": "stream",
     "text": [
      "0.7071067811865475 [0^ 1^] +\n",
      "0.7071067811865475 [2^ 3^]\n"
     ]
    },
    {
     "data": {
      "text/plain": [
       "(array([-1.,  0.,  0.,  0.]), -0.5)"
      ]
     },
     "execution_count": 24,
     "metadata": {},
     "output_type": "execute_result"
    }
   ],
   "source": [
    "# Uniforme\n",
    "sk, lam = 1/np.sqrt(basis.d//2) * np.ones(basis.d//2), -1*m*(n+1-2*m)/(n*(n-1))\n",
    "\n",
    "vect = a_dag_state(basis, sk)\n",
    "#vect = slater_state(basis, np.random.randint(0, basis.d, basis.m))\n",
    "\n",
    "rho = fmb.rho_m(vect, rho_2_block_arrays)\n",
    "\n",
    "rho_pt = partial_traspose(rho, [0, 3, 2, 1]) - partial_traspose(rho, [0, 2, 3, 1])\n",
    "au = lambda x: np.sort(np.linalg.eigvals(x).real)\n",
    "au(rho_pt), lam"
   ]
  }
 ],
 "metadata": {
  "kernelspec": {
   "display_name": "base",
   "language": "python",
   "name": "python3"
  },
  "language_info": {
   "codemirror_mode": {
    "name": "ipython",
    "version": 3
   },
   "file_extension": ".py",
   "mimetype": "text/x-python",
   "name": "python",
   "nbconvert_exporter": "python",
   "pygments_lexer": "ipython3",
   "version": "3.11.11"
  }
 },
 "nbformat": 4,
 "nbformat_minor": 5
}
